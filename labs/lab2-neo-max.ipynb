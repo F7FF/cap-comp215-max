{
  "nbformat": 4,
  "nbformat_minor": 0,
  "metadata": {
    "colab": {
      "name": "Lab2-NEO.ipynb",
      "provenance": []
    },
    "kernelspec": {
      "name": "python3",
      "language": "python",
      "display_name": "Python 3 (ipykernel)"
    },
    "language_info": {
      "name": "python"
    }
  },
  "cells": [
    {
      "cell_type": "markdown",
      "source": [
        "COMP 215 - LAB 2 (NEO)\n",
        "----------------\n",
        "#### Name: Max Rowley\n",
        "#### Date: Jan. 16th 2023\n",
        "\n",
        "This lab exercise is mostly a review of strings, tuples, lists, dictionaries, and functions.\n",
        "\n",
        "**Building on new concepts from lab 1**:\n",
        "  * `datetime.date` objects represent a calendar date\n",
        "  * *list comprehension* provides a compact way to represent map and filter algorithms\n",
        "\n",
        "**New Python Concepts**:\n",
        "  * *f-string* simplifies string formatting operations\n",
        "\n",
        "As usual, the first code cell simply imports all the modules we'll be using..."
      ],
      "metadata": {
        "id": "nbRPZPKZU5Pk"
      }
    },
    {
      "cell_type": "code",
      "execution_count": 1,
      "outputs": [],
      "source": [
        "import datetime, json, requests\n",
        "from pprint import pprint    # Pretty Print - built-in python function to nicely format data structures"
      ],
      "metadata": {
        "pycharm": {
          "name": "#%%\n"
        },
        "id": "GytJvHEruQdR"
      }
    },
    {
      "cell_type": "markdown",
      "source": [
        "We'll answer some questions about [Near Earth Objects](https://cneos.jpl.nasa.gov/)\n",
        "> using NASA's API:  [https://api.nasa.gov/](https://api.nasa.gov/#NeoWS)\n",
        "\n",
        "You should register for your own API key, (but may use the DEMO_KEY to get started).\n",
        "\n",
        "First we need a short tutorial on python dates and [f-strings](https://realpython.com/python-f-strings/)..."
      ],
      "metadata": {
        "collapsed": false,
        "pycharm": {
          "name": "#%% md\n"
        },
        "id": "BVcG18PquQdR"
      }
    },
    {
      "cell_type": "code",
      "execution_count": 2,
      "outputs": [
        {
          "output_type": "stream",
          "name": "stdout",
          "text": [
            "2023-01-16 <class 'datetime.date'>\n",
            "Today is: 2023-01-16\n"
          ]
        }
      ],
      "source": [
        "today = datetime.date.today()   # get a date object representing today's date\n",
        "print(today, type(today))\n",
        "formatted_date = f'Today is: {today}'   # A format string - notice how the variable `today` is formatted into the stringg\n",
        "print(formatted_date)"
      ],
      "metadata": {
        "pycharm": {
          "name": "#%%\n"
        },
        "colab": {
          "base_uri": "https://localhost:8080/"
        },
        "id": "S6KSODEnuQdS",
        "outputId": "9890891b-f29a-46e7-b79b-0af56c5d742a"
      }
    },
    {
      "cell_type": "markdown",
      "source": [
        "### Make a query\n",
        "\n",
        "Let's get some data from the NEO database...\n",
        "Here's a query that gets the observation \"feed\" for today.\n",
        "(Note: I hard-coded the date below to lock down the data for the lab - ideally used `today()` so the notebook is always up-to-date.)"
      ],
      "metadata": {
        "collapsed": false,
        "pycharm": {
          "name": "#%% md\n"
        },
        "id": "zbJme13KuQdS"
      }
    },
    {
      "cell_type": "code",
      "execution_count": null,
      "outputs": [],
      "source": [
        "API_KEY = 'DEMO_KEY'  # substitute your API key here\n",
        "\n",
        "today = '2023-01-09'  #  Future enhancement:  str(datetime.date.today())   # Today's date as a string!\n",
        "# Use an f-string here to \"format\" the date and API key varaibles.\n",
        "url = f'https://api.nasa.gov/neo/rest/v1/feed?start_date={today}&end_date={today}&api_key={API_KEY}'\n",
        "\n",
        "response = requests.request(\"GET\", url, headers={}, data={})\n",
        "\n",
        "data = json.loads(response.text)  # recall json.loads for lab 1\n",
        "\n",
        "# TIP: print(data) to see the whole data structure returned, here we grab just the list of NEO's:\n",
        "n_results = data['element_count']\n",
        "neos = data['near_earth_objects'][today]\n",
        "print(f'{n_results} Near Earth Objects found for {today}')\n",
        "pprint(neos)"
      ],
      "metadata": {
        "pycharm": {
          "name": "#%%\n"
        },
        "id": "Obm09whJuQdT"
      }
    },
    {
      "cell_type": "markdown",
      "source": [
        "Next we extract just the potentially hazerdous asteroids, using a Comp115-style list accumulator *loop*:"
      ],
      "metadata": {
        "collapsed": false,
        "pycharm": {
          "name": "#%% md\n"
        },
        "id": "Vl-X9W-FuQdT"
      }
    },
    {
      "cell_type": "code",
      "execution_count": 4,
      "metadata": {
        "id": "JDGbYTySU3BP",
        "colab": {
          "base_uri": "https://localhost:8080/"
        },
        "outputId": "db26d55a-d000-4acb-a5d9-2bd3c95ff4fe"
      },
      "outputs": [
        {
          "output_type": "stream",
          "name": "stdout",
          "text": [
            "3 potentially hazardous asteroids identified.\n"
          ]
        }
      ],
      "source": [
        "hazards =  []\n",
        "for item in neos:\n",
        "  if item['is_potentially_hazardous_asteroid'] is True:\n",
        "    hazards.append(item)\n",
        "print(f'{len(hazards)} potentially hazardous asteroids identified.')"
      ]
    },
    {
      "cell_type": "markdown",
      "source": [
        "## Exercise 1\n",
        "\n",
        "In the code cell below, **re-write the accumulator loop above** as a [list comprehension](https://realpython.com/lessons/list-comprehensions-overview/) that implements a [\"filter\"](https://youtu.be/hUes6y2b--0)\n",
        "Notice how this provides a concise way to \"filter\" items of interest from a larger data set."
      ],
      "metadata": {
        "collapsed": false,
        "pycharm": {
          "name": "#%% md\n"
        },
        "id": "vgBlkoEyuQdT"
      }
    },
    {
      "cell_type": "code",
      "execution_count": 9,
      "outputs": [],
      "source": [
        "hazards = [asteroid for asteroid in neos if asteroid[\"is_potentially_hazardous_asteroid\"]]"
      ],
      "metadata": {
        "pycharm": {
          "name": "#%%\n"
        },
        "id": "_gPZCVcCuQdU"
      }
    },
    {
      "cell_type": "markdown",
      "source": [
        "## Fetch Complete Data for One Asteroid\n",
        "\n",
        "Notice that the record for each `neo` is a dictionary with `id` field that uniquely identifies this record in the database.\n",
        "\n",
        "We can use this `id` to fetch complete orbital and close approach data for the NEO.\n",
        "\n",
        "For example, this query fetches the complete data set for the first hazardous asteroid...\n"
      ],
      "metadata": {
        "collapsed": false,
        "pycharm": {
          "name": "#%% md\n"
        },
        "id": "7pMgTDTruQdU"
      }
    },
    {
      "cell_type": "code",
      "execution_count": null,
      "outputs": [],
      "source": [
        "id = hazards[0]['id']\n",
        "url = f'https://api.nasa.gov/neo/rest/v1/neo/{id}/?api_key={API_KEY}'\n",
        "response = requests.request(\"GET\", url, headers={}, data={})\n",
        "data = json.loads(response.text)\n",
        "\n",
        "pprint(data)"
      ],
      "metadata": {
        "pycharm": {
          "name": "#%%\n"
        },
        "id": "WOHw_qJ5uQdU"
      }
    },
    {
      "cell_type": "markdown",
      "source": [
        "Notice that the `miss_distance` field contains the distance (in various units) by which the NEO missed an \"orbiting body\".\n",
        "\n",
        "## Exercise 2\n",
        "\n",
        "In the code cell below, write a python function that takes a list of \"close approach data\" as a parameter,\n",
        "and returns a 2-tuple with the (date, miss km) of the closest approach to Earth in the list (where \"miss km\" is the miss distance in km).\n",
        "\n",
        "Hints:\n",
        "* notice the input is a list of dictionaries.  Each dictionary has a 'close_approach_date\", \"orbiting_body\", and 'miss_distance' field.\n",
        "* we are only interested in the closest approach to \"Earth\"\n",
        "* use a loop if that is easier to understand - we will look at more compact algorithms to solve this problem in class.\n",
        "\n",
        "Add at least one unit test to check your work - note the test data only needs dictionaries with the fields your function actually uses.\n"
      ],
      "metadata": {
        "id": "DNRs7ynOYwYk"
      }
    },
    {
      "cell_type": "code",
      "source": [
        "def close_approaches(data): #first try, using a loop\n",
        "  closestdistance = float(\"inf\")\n",
        "  closestdate = None\n",
        "  for approach in data[\"close_approach_data\"]:\n",
        "    if(approach[\"orbiting_body\"] == \"Earth\" and float(approach[\"miss_distance\"][\"kilometers\"]) < closestdistance):\n",
        "      closestdistance = float(approach[\"miss_distance\"][\"kilometers\"])\n",
        "      closestdate = approach[\"close_approach_date\"]\n",
        "  return (closestdate, closestdistance)\n",
        "\n",
        "testdata = {\n",
        "    \"close_approach_data\":[\n",
        "        {\n",
        "            \"orbiting_body\":\"Earth\",\n",
        "            \"miss_distance\":{\"kilometers\":100},\n",
        "            \"close_approach_date\":\"A little while ago.\"\n",
        "        },\n",
        "        {\n",
        "            \"orbiting_body\":\"Earth\",\n",
        "            \"miss_distance\":{\"kilometers\":150},\n",
        "            \"close_approach_date\":\"During tea-time.\"\n",
        "        },\n",
        "        {\n",
        "            \"orbiting_body\":\"Earth\",\n",
        "            \"miss_distance\":{\"kilometers\":20}, #this one should be the chosen one!\n",
        "            \"close_approach_date\":\"Last week.\"\n",
        "        },\n",
        "        {\n",
        "            \"orbiting_body\":\"Earth\",\n",
        "            \"miss_distance\":{\"kilometers\":500},\n",
        "            \"close_approach_date\":\"At night.\"\n",
        "        },\n",
        "    ]\n",
        "}\n",
        "\n",
        "print(close_approaches(testdata))"
      ],
      "metadata": {
        "colab": {
          "base_uri": "https://localhost:8080/"
        },
        "id": "tiyXTDfnZAd0",
        "outputId": "4b9c61a8-bac4-41cc-e504-04bcaeffb7ca"
      },
      "execution_count": 18,
      "outputs": [
        {
          "output_type": "stream",
          "name": "stdout",
          "text": [
            "('Last week.', 20.0)\n"
          ]
        }
      ]
    },
    {
      "cell_type": "markdown",
      "source": [
        "## OPTIONAL - Take your skills to the next level...\n",
        "## Exercise 3\n",
        "\n",
        "In the code cell below, write a complete program that:\n",
        " 1. fetches the list of NEO's for this week.\n",
        " 2. for each NEO, fetch it's complete orbital data and determine its closest approach to Earth\n",
        " 3. identify which NEO from this week's data makes the closet approach to earth\n",
        " 4. print a nice message with information about the NEO, which it will approach the Earth, and how close it will come.\n",
        "\n",
        "Hints:\n",
        "* you'll need the start and end date - end date is today, see if you can use a [`timedelta`](https://docs.python.org/3/library/datetime.html#timedelta-objects) object to ge the start date (you can do basic \"date math\" with `timedelta` and `date` objects!)\n",
        "* you may need to modify the function we wrote in Ex. 2 to return a triple with the NEO's id included;\n",
        "* lots of opportunity here for more practice with list comprehensions\n"
      ],
      "metadata": {
        "collapsed": false,
        "id": "-pZ5sHr_uQdV"
      }
    },
    {
      "cell_type": "code",
      "source": [
        "# your code here\n",
        "\n",
        "import datetime, json, requests\n",
        "\n",
        "debug = lambda x:pprint(\"DEBUG: '\" + str(x) + \"', \" + str(type(x))) #set it to lambda x:None to silence later\n",
        "\n",
        "end_date = str(datetime.date.today()) #get today's date\n",
        "start_date = str(datetime.date.today() - datetime.timedelta(days=7))\n",
        "API_KEY = 'DEMO_KEY' #this works? sweet!\n",
        "\n",
        "#now, figure out the URL we need to use\n",
        "url = f'https://api.nasa.gov/neo/rest/v1/feed?start_date={start_date}&end_date={end_date}&api_key={API_KEY}'\n",
        "\n",
        "response = requests.request(\"GET\", url, headers={}, data={}) #request the information from NASA\n",
        "\n",
        "data = json.loads(response.text) #parse the JSON string into a database variable. Yes, all of this is copied from the examples so far.\n",
        "\n",
        "neos = []\n",
        "for day in data['near_earth_objects']: #select only the NEOs and put them all in one big list to work on\n",
        "  neos += data['near_earth_objects'][day]\n",
        "\n",
        "def close_approaches(data): # Defining this for use below\n",
        "  closestdistance = float(\"inf\")\n",
        "  closestdate = None\n",
        "  for approach in data[\"close_approach_data\"]:\n",
        "    if(approach[\"orbiting_body\"] == \"Earth\" and float(approach[\"miss_distance\"][\"kilometers\"]) < closestdistance):\n",
        "      closestdistance = float(approach[\"miss_distance\"][\"kilometers\"])\n",
        "      closestdate = approach[\"close_approach_date\"]\n",
        "  return (closestdate, closestdistance)\n",
        "\n",
        "closestneo = (None, float(\"inf\"))\n",
        "closest_neo_id = None\n",
        "\n",
        "for neo in neos: #find the one with the closest approach\n",
        "  neodata = json.loads(requests.request(\"GET\", \"https://api.nasa.gov/neo/rest/v1/neo/\" + str(neo[\"id\"]) + \"/?api_key={API_KEY}\", headers={}, data={}).text) #request information about that specific NEO\n",
        "  if(\"error\" in neodata):\n",
        "    break #A bit janky, but jupyter doesn't seem to like it when I use exit()\n",
        "  neoapproach = close_approaches(neodata)\n",
        "  if(neoapproach[1] < closestneo[1]): #if the current NEO is actually closer than the previously recorded closest approach, update the closest approach\n",
        "    closestneo = neoapproach\n",
        "    closest_neo_id = neo[\"id\"] \n",
        "\n",
        "if(\"error\" not in neodata): #check if \n",
        "  print(\"The closest NEO ID found was \" + str(closest_neo_id) + \", which will be \" + str(closestneo) + \"km from Earth at \" + closestneo[0] + \".\")\n",
        "else:\n",
        "  print(\"...Looks like NASA denied the request. Oops!\")\n",
        "  print(neodata[\"error\"][\"message\"])\n"
      ],
      "metadata": {
        "colab": {
          "base_uri": "https://localhost:8080/"
        },
        "id": "Ds1YevErlzCe",
        "outputId": "540ff695-c5c6-43dc-cb83-15e5a0027120",
        "pycharm": {
          "name": "#%%\n"
        }
      },
      "execution_count": 3,
      "outputs": [
        {
          "output_type": "stream",
          "name": "stdout",
          "text": [
            "...Looks like NASA denied the request. Oops!\n",
            "An invalid api_key was supplied. Get one at https://api.nasa.gov:443\n"
          ]
        }
      ]
    },
    {
      "cell_type": "code",
      "source": [],
      "metadata": {
        "id": "0FQ-XpnqFhd-"
      },
      "execution_count": null,
      "outputs": []
    }
  ]
}