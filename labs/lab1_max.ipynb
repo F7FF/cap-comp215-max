{
  "cells": [
    {
      "cell_type": "markdown",
      "metadata": {
        "collapsed": true,
        "pycharm": {
          "name": "#%% md\n"
        },
        "id": "UO4namhuBH3l"
      },
      "source": [
        "COMP 215 - LAB 1\n",
        "----------------\n",
        "#### Name: Max R\n",
        "#### Date: Jan 9th 2023\n",
        "\n",
        "This lab exercise is mostly to introduce some of the power in Jupyter Notebooks.\n",
        "Note that a Notebook is composed of \"cells\" - some are \"text\", like this one, while others are \"code\"\n",
        "\n",
        "We'll also review some basic data types (like `int` and `str`) and data structures (like `list` and `dict`)\n",
        "\n",
        "**New Python Concepts**:\n",
        "  * `datetime.date` objects represent a calendar date (these are very powerful)\n",
        "  * *list comprehension* provides a compact way to represent map and filter algorithms\n",
        "\n",
        "As will be usual, the first code cell, below, simply imports all the modules we'll be using..."
      ]
    },
    {
      "cell_type": "code",
      "source": [
        "import datetime, json, requests\n",
        "import matplotlib.pyplot as plt\n",
        "import  matplotlib.dates as mdates\n",
        "from pprint import pprint    # Pretty Print - built-in python function to nicely format data structures"
      ],
      "metadata": {
        "pycharm": {
          "name": "#%%\n"
        },
        "id": "DqSJNdSdBH3n"
      },
      "execution_count": 7,
      "outputs": []
    },
    {
      "cell_type": "markdown",
      "source": [
        "### API Query\n",
        "\n",
        "Now, let's fetch some Covid-19 daily case-count data from the Open Covid API:  https://opencovid.ca/api/\n",
        "\n",
        "Query:\n",
        "  - `stat=cases`        # the type of data to fetch\n",
        "  - `loc=BC`            # the location to fetch data for\n",
        "  - `after=2022-11-01`  # since the 1st of november (note date format:  yyyy-mm-dd)"
      ],
      "metadata": {
        "collapsed": false,
        "id": "0rnf67FTBH3p"
      }
    },
    {
      "cell_type": "code",
      "execution_count": 8,
      "outputs": [
        {
          "output_type": "stream",
          "name": "stdout",
          "text": [
            "Response data type: <class 'str'>\n",
            "{\"data\":{\"cases\":[{\"name\":\"cases\",\"region\":\"BC\",\"sub_region_1\":\"593\",\"date\":\"2022-11-01\",\"value\":78666,\"value_daily\":13},{\"name\":\"cases\",\"region\":\"BC\",\"sub_region_1\":\"593\",\"date\":\"2022-11-02\",\"value\":78681,\"value_daily\":15},{\"name\":\"cases\",\"region\":\"BC\",\"sub_region_1\":\"593\",\"date\":\"2022-11-03\",\"value\":78687,\"value_daily\":6},{\"name\":\"cases\",\"region\":\"BC\",\"sub_region_1\":\"593\",\"date\":\"2022-11-04\",\"value\":78704,\"value_daily\":17},{\"name\":\"cases\",\"region\":\"BC\",\"sub_region_1\":\"593\",\"date\":\"2022-11-05\",\"value\":78721,\"value_daily\":17},{\"name\":\"cases\",\"region\":\"BC\",\"sub_region_1\":\"593\",\"date\":\"2022-11-06\",\"value\":78732,\"value_daily\":11},{\"name\":\"cases\",\"region\":\"BC\",\"sub_region_1\":\"593\",\"date\":\"2022-11-07\",\"value\":78744,\"value_daily\":12},{\"name\":\"cases\",\"region\":\"BC\",\"sub_region_1\":\"593\",\"date\":\"2022-11-08\",\"value\":78756,\"value_daily\":12},{\"name\":\"cases\",\"region\":\"BC\",\"sub_region_1\":\"593\",\"date\":\"2022-11-09\",\"value\":78774,\"value_daily\":18},{\"name\":\"cases\",\"region\":\"BC\",\"sub_region_1\":\"593\",\"date\":\"2022-11-10\",\"value\":78789,\"value_daily\":15},{\"name\":\"cases\",\"region\":\"BC\",\"sub_region_1\":\"593\",\"date\":\"2022-11-11\",\"value\":78804,\"value_daily\":15},{\"name\":\"cases\",\"region\":\"BC\",\"sub_region_1\":\"593\",\"date\":\"2022-11-12\",\"value\":78818,\"value_daily\":14},{\"name\":\"cases\",\"region\":\"BC\",\"sub_region_1\":\"593\",\"date\":\"2022-11-13\",\"value\":78833,\"value_daily\":15},{\"name\":\"cases\",\"region\":\"BC\",\"sub_region_1\":\"593\",\"date\":\"2022-11-14\",\"value\":78854,\"value_daily\":21},{\"name\":\"cases\",\"region\":\"BC\",\"sub_region_1\":\"593\",\"date\":\"2022-11-15\",\"value\":78874,\"value_daily\":20},{\"name\":\"cases\",\"region\":\"BC\",\"sub_region_1\":\"593\",\"date\":\"2022-11-16\",\"value\":78888,\"value_daily\":14},{\"name\":\"cases\",\"region\":\"BC\",\"sub_region_1\":\"593\",\"date\":\"2022-11-17\",\"value\":78901,\"value_daily\":13},{\"name\":\"cases\",\"region\":\"BC\",\"sub_region_1\":\"593\",\"date\":\"2022-11-18\",\"value\":78917,\"value_daily\":16},{\"name\":\"cases\",\"region\":\"BC\",\"sub_region_1\":\"593\",\"date\":\"2022-11-19\",\"value\":78943,\"value_daily\":26},{\"name\":\"cases\",\"region\":\"BC\",\"sub_region_1\":\"593\",\"date\":\"2022-11-20\",\"value\":78961,\"value_daily\":18},{\"name\":\"cases\",\"region\":\"BC\",\"sub_region_1\":\"593\",\"date\":\"2022-11-21\",\"value\":78984,\"value_daily\":23},{\"name\":\"cases\",\"region\":\"BC\",\"sub_region_1\":\"593\",\"date\":\"2022-11-22\",\"value\":79005,\"value_daily\":21},{\"name\":\"cases\",\"region\":\"BC\",\"sub_region_1\":\"593\",\"date\":\"2022-11-23\",\"value\":79023,\"value_daily\":18},{\"name\":\"cases\",\"region\":\"BC\",\"sub_region_1\":\"593\",\"date\":\"2022-11-24\",\"value\":79043,\"value_daily\":20},{\"name\":\"cases\",\"region\":\"BC\",\"sub_region_1\":\"593\",\"date\":\"2022-11-25\",\"value\":79067,\"value_daily\":24},{\"name\":\"cases\",\"region\":\"BC\",\"sub_region_1\":\"593\",\"date\":\"2022-11-26\",\"value\":79081,\"value_daily\":14},{\"name\":\"cases\",\"region\":\"BC\",\"sub_region_1\":\"593\",\"date\":\"2022-11-27\",\"value\":79099,\"value_daily\":18},{\"name\":\"cases\",\"region\":\"BC\",\"sub_region_1\":\"593\",\"date\":\"2022-11-28\",\"value\":79118,\"value_daily\":19},{\"name\":\"cases\",\"region\":\"BC\",\"sub_region_1\":\"593\",\"date\":\"2022-11-29\",\"value\":79135,\"value_daily\":17},{\"name\":\"cases\",\"region\":\"BC\",\"sub_region_1\":\"593\",\"date\":\"2022-11-30\",\"value\":79153,\"value_daily\":18},{\"name\":\"cases\",\"region\":\"BC\",\"sub_region_1\":\"593\",\"date\":\"2022-12-01\",\"value\":79167,\"value_daily\":14},{\"name\":\"cases\",\"region\":\"BC\",\"sub_region_1\":\"593\",\"date\":\"2022-12-02\",\"value\":79196,\"value_daily\":29},{\"name\":\"cases\",\"region\":\"BC\",\"sub_region_1\":\"593\",\"date\":\"2022-12-03\",\"value\":79216,\"value_daily\":20},{\"name\":\"cases\",\"region\":\"BC\",\"sub_region_1\":\"593\",\"date\":\"2022-12-04\",\"value\":79240,\"value_daily\":24},{\"name\":\"cases\",\"region\":\"BC\",\"sub_region_1\":\"593\",\"date\":\"2022-12-05\",\"value\":79264,\"value_daily\":24},{\"name\":\"cases\",\"region\":\"BC\",\"sub_region_1\":\"593\",\"date\":\"2022-12-06\",\"value\":79284,\"value_daily\":20},{\"name\":\"cases\",\"region\":\"BC\",\"sub_region_1\":\"593\",\"date\":\"2022-12-07\",\"value\":79309,\"value_daily\":25},{\"name\":\"cases\",\"region\":\"BC\",\"sub_region_1\":\"593\",\"date\":\"2022-12-08\",\"value\":79327,\"value_daily\":18},{\"name\":\"cases\",\"region\":\"BC\",\"sub_region_1\":\"593\",\"date\":\"2022-12-09\",\"value\":79345,\"value_daily\":18},{\"name\":\"cases\",\"region\":\"BC\",\"sub_region_1\":\"593\",\"date\":\"2022-12-10\",\"value\":79371,\"value_daily\":26},{\"name\":\"cases\",\"region\":\"BC\",\"sub_region_1\":\"593\",\"date\":\"2022-12-11\",\"value\":79390,\"value_daily\":19},{\"name\":\"cases\",\"region\":\"BC\",\"sub_region_1\":\"593\",\"date\":\"2022-12-12\",\"value\":79417,\"value_daily\":27},{\"name\":\"cases\",\"region\":\"BC\",\"sub_region_1\":\"593\",\"date\":\"2022-12-13\",\"value\":79441,\"value_daily\":24},{\"name\":\"cases\",\"region\":\"BC\",\"sub_region_1\":\"593\",\"date\":\"2022-12-14\",\"value\":79463,\"value_daily\":22},{\"name\":\"cases\",\"region\":\"BC\",\"sub_region_1\":\"593\",\"date\":\"2022-12-15\",\"value\":79482,\"value_daily\":19},{\"name\":\"cases\",\"region\":\"BC\",\"sub_region_1\":\"593\",\"date\":\"2022-12-16\",\"value\":79504,\"value_daily\":22},{\"name\":\"cases\",\"region\":\"BC\",\"sub_region_1\":\"593\",\"date\":\"2022-12-17\",\"value\":79518,\"value_daily\":14},{\"name\":\"cases\",\"region\":\"BC\",\"sub_region_1\":\"593\",\"date\":\"2022-12-18\",\"value\":79538,\"value_daily\":20},{\"name\":\"cases\",\"region\":\"BC\",\"sub_region_1\":\"593\",\"date\":\"2022-12-19\",\"value\":79558,\"value_daily\":20},{\"name\":\"cases\",\"region\":\"BC\",\"sub_region_1\":\"593\",\"date\":\"2022-12-20\",\"value\":79582,\"value_daily\":24},{\"name\":\"cases\",\"region\":\"BC\",\"sub_region_1\":\"593\",\"date\":\"2022-12-21\",\"value\":79600,\"value_daily\":18},{\"name\":\"cases\",\"region\":\"BC\",\"sub_region_1\":\"593\",\"date\":\"2022-12-22\",\"value\":79636,\"value_daily\":36},{\"name\":\"cases\",\"region\":\"BC\",\"sub_region_1\":\"593\",\"date\":\"2022-12-23\",\"value\":79656,\"value_daily\":20},{\"name\":\"cases\",\"region\":\"BC\",\"sub_region_1\":\"593\",\"date\":\"2022-12-24\",\"value\":79685,\"value_daily\":29},{\"name\":\"cases\",\"region\":\"BC\",\"sub_region_1\":\"593\",\"date\":\"2022-12-25\",\"value\":79712,\"value_daily\":27},{\"name\":\"cases\",\"region\":\"BC\",\"sub_region_1\":\"593\",\"date\":\"2022-12-26\",\"value\":79742,\"value_daily\":30},{\"name\":\"cases\",\"region\":\"BC\",\"sub_region_1\":\"593\",\"date\":\"2022-12-27\",\"value\":79779,\"value_daily\":37},{\"name\":\"cases\",\"region\":\"BC\",\"sub_region_1\":\"593\",\"date\":\"2022-12-28\",\"value\":79798,\"value_daily\":19},{\"name\":\"cases\",\"region\":\"BC\",\"sub_region_1\":\"593\",\"date\":\"2022-12-29\",\"value\":79835,\"value_daily\":37},{\"name\":\"cases\",\"region\":\"BC\",\"sub_region_1\":\"593\",\"date\":\"2022-12-30\",\"value\":79870,\"value_daily\":35},{\"name\":\"cases\",\"region\":\"BC\",\"sub_region_1\":\"593\",\"date\":\"2022-12-31\",\"value\":79894,\"value_daily\":24}]},\"version\":\"2023-01-09 16:08 EST\"}\n"
          ]
        }
      ],
      "source": [
        "locationtoken = \"BC\" #change this to analyze different locations!\n",
        "\n",
        "hruidtoken = 593 #sets the HRUID token. I wonder what happens when HRUID is outside the location given by the loc token...\n",
        "\n",
        "query = 'https://api.opencovid.ca/timeseries?stat=cases&after=2022-11-01&geo=hr&loc=' + str(hruidtoken) + ''\n",
        "\n",
        "response = requests.request(\"GET\", query, headers={}, data={})\n",
        "print('Response data type:', type(response.text))\n",
        "print(response.text)"
      ],
      "metadata": {
        "pycharm": {
          "name": "#%%\n"
        },
        "id": "Al2T68b2BH3p",
        "outputId": "aa3eb715-2203-419e-80ea-7262705ccb80",
        "colab": {
          "base_uri": "https://localhost:8080/"
        }
      }
    },
    {
      "cell_type": "markdown",
      "source": [
        "Notice that the response looks like a dictionary, but is actually just a string of text (most data is exchanged on the web as plain text!).  This particular data format is called \"[JSON](https://en.wikipedia.org/wiki/JSON)\" \n",
        "\n",
        "The `json.loads` function \"parses\" such text and loads the data into a dictionary..."
      ],
      "metadata": {
        "collapsed": false,
        "pycharm": {
          "name": "#%% md\n"
        },
        "id": "np4HQTmABH3q"
      }
    },
    {
      "cell_type": "code",
      "execution_count": 9,
      "outputs": [
        {
          "output_type": "stream",
          "name": "stdout",
          "text": [
            "{'data': {'cases': [{'date': '2022-11-01',\n",
            "                     'name': 'cases',\n",
            "                     'region': 'BC',\n",
            "                     'sub_region_1': '593',\n",
            "                     'value': 78666,\n",
            "                     'value_daily': 13},\n",
            "                    {'date': '2022-11-02',\n",
            "                     'name': 'cases',\n",
            "                     'region': 'BC',\n",
            "                     'sub_region_1': '593',\n",
            "                     'value': 78681,\n",
            "                     'value_daily': 15},\n",
            "                    {'date': '2022-11-03',\n",
            "                     'name': 'cases',\n",
            "                     'region': 'BC',\n",
            "                     'sub_region_1': '593',\n",
            "                     'value': 78687,\n",
            "                     'value_daily': 6},\n",
            "                    {'date': '2022-11-04',\n",
            "                     'name': 'cases',\n",
            "                     'region': 'BC',\n",
            "                     'sub_region_1': '593',\n",
            "                     'value': 78704,\n",
            "                     'value_daily': 17},\n",
            "                    {'date': '2022-11-05',\n",
            "                     'name': 'cases',\n",
            "                     'region': 'BC',\n",
            "                     'sub_region_1': '593',\n",
            "                     'value': 78721,\n",
            "                     'value_daily': 17},\n",
            "                    {'date': '2022-11-06',\n",
            "                     'name': 'cases',\n",
            "                     'region': 'BC',\n",
            "                     'sub_region_1': '593',\n",
            "                     'value': 78732,\n",
            "                     'value_daily': 11},\n",
            "                    {'date': '2022-11-07',\n",
            "                     'name': 'cases',\n",
            "                     'region': 'BC',\n",
            "                     'sub_region_1': '593',\n",
            "                     'value': 78744,\n",
            "                     'value_daily': 12},\n",
            "                    {'date': '2022-11-08',\n",
            "                     'name': 'cases',\n",
            "                     'region': 'BC',\n",
            "                     'sub_region_1': '593',\n",
            "                     'value': 78756,\n",
            "                     'value_daily': 12},\n",
            "                    {'date': '2022-11-09',\n",
            "                     'name': 'cases',\n",
            "                     'region': 'BC',\n",
            "                     'sub_region_1': '593',\n",
            "                     'value': 78774,\n",
            "                     'value_daily': 18},\n",
            "                    {'date': '2022-11-10',\n",
            "                     'name': 'cases',\n",
            "                     'region': 'BC',\n",
            "                     'sub_region_1': '593',\n",
            "                     'value': 78789,\n",
            "                     'value_daily': 15},\n",
            "                    {'date': '2022-11-11',\n",
            "                     'name': 'cases',\n",
            "                     'region': 'BC',\n",
            "                     'sub_region_1': '593',\n",
            "                     'value': 78804,\n",
            "                     'value_daily': 15},\n",
            "                    {'date': '2022-11-12',\n",
            "                     'name': 'cases',\n",
            "                     'region': 'BC',\n",
            "                     'sub_region_1': '593',\n",
            "                     'value': 78818,\n",
            "                     'value_daily': 14},\n",
            "                    {'date': '2022-11-13',\n",
            "                     'name': 'cases',\n",
            "                     'region': 'BC',\n",
            "                     'sub_region_1': '593',\n",
            "                     'value': 78833,\n",
            "                     'value_daily': 15},\n",
            "                    {'date': '2022-11-14',\n",
            "                     'name': 'cases',\n",
            "                     'region': 'BC',\n",
            "                     'sub_region_1': '593',\n",
            "                     'value': 78854,\n",
            "                     'value_daily': 21},\n",
            "                    {'date': '2022-11-15',\n",
            "                     'name': 'cases',\n",
            "                     'region': 'BC',\n",
            "                     'sub_region_1': '593',\n",
            "                     'value': 78874,\n",
            "                     'value_daily': 20},\n",
            "                    {'date': '2022-11-16',\n",
            "                     'name': 'cases',\n",
            "                     'region': 'BC',\n",
            "                     'sub_region_1': '593',\n",
            "                     'value': 78888,\n",
            "                     'value_daily': 14},\n",
            "                    {'date': '2022-11-17',\n",
            "                     'name': 'cases',\n",
            "                     'region': 'BC',\n",
            "                     'sub_region_1': '593',\n",
            "                     'value': 78901,\n",
            "                     'value_daily': 13},\n",
            "                    {'date': '2022-11-18',\n",
            "                     'name': 'cases',\n",
            "                     'region': 'BC',\n",
            "                     'sub_region_1': '593',\n",
            "                     'value': 78917,\n",
            "                     'value_daily': 16},\n",
            "                    {'date': '2022-11-19',\n",
            "                     'name': 'cases',\n",
            "                     'region': 'BC',\n",
            "                     'sub_region_1': '593',\n",
            "                     'value': 78943,\n",
            "                     'value_daily': 26},\n",
            "                    {'date': '2022-11-20',\n",
            "                     'name': 'cases',\n",
            "                     'region': 'BC',\n",
            "                     'sub_region_1': '593',\n",
            "                     'value': 78961,\n",
            "                     'value_daily': 18},\n",
            "                    {'date': '2022-11-21',\n",
            "                     'name': 'cases',\n",
            "                     'region': 'BC',\n",
            "                     'sub_region_1': '593',\n",
            "                     'value': 78984,\n",
            "                     'value_daily': 23},\n",
            "                    {'date': '2022-11-22',\n",
            "                     'name': 'cases',\n",
            "                     'region': 'BC',\n",
            "                     'sub_region_1': '593',\n",
            "                     'value': 79005,\n",
            "                     'value_daily': 21},\n",
            "                    {'date': '2022-11-23',\n",
            "                     'name': 'cases',\n",
            "                     'region': 'BC',\n",
            "                     'sub_region_1': '593',\n",
            "                     'value': 79023,\n",
            "                     'value_daily': 18},\n",
            "                    {'date': '2022-11-24',\n",
            "                     'name': 'cases',\n",
            "                     'region': 'BC',\n",
            "                     'sub_region_1': '593',\n",
            "                     'value': 79043,\n",
            "                     'value_daily': 20},\n",
            "                    {'date': '2022-11-25',\n",
            "                     'name': 'cases',\n",
            "                     'region': 'BC',\n",
            "                     'sub_region_1': '593',\n",
            "                     'value': 79067,\n",
            "                     'value_daily': 24},\n",
            "                    {'date': '2022-11-26',\n",
            "                     'name': 'cases',\n",
            "                     'region': 'BC',\n",
            "                     'sub_region_1': '593',\n",
            "                     'value': 79081,\n",
            "                     'value_daily': 14},\n",
            "                    {'date': '2022-11-27',\n",
            "                     'name': 'cases',\n",
            "                     'region': 'BC',\n",
            "                     'sub_region_1': '593',\n",
            "                     'value': 79099,\n",
            "                     'value_daily': 18},\n",
            "                    {'date': '2022-11-28',\n",
            "                     'name': 'cases',\n",
            "                     'region': 'BC',\n",
            "                     'sub_region_1': '593',\n",
            "                     'value': 79118,\n",
            "                     'value_daily': 19},\n",
            "                    {'date': '2022-11-29',\n",
            "                     'name': 'cases',\n",
            "                     'region': 'BC',\n",
            "                     'sub_region_1': '593',\n",
            "                     'value': 79135,\n",
            "                     'value_daily': 17},\n",
            "                    {'date': '2022-11-30',\n",
            "                     'name': 'cases',\n",
            "                     'region': 'BC',\n",
            "                     'sub_region_1': '593',\n",
            "                     'value': 79153,\n",
            "                     'value_daily': 18},\n",
            "                    {'date': '2022-12-01',\n",
            "                     'name': 'cases',\n",
            "                     'region': 'BC',\n",
            "                     'sub_region_1': '593',\n",
            "                     'value': 79167,\n",
            "                     'value_daily': 14},\n",
            "                    {'date': '2022-12-02',\n",
            "                     'name': 'cases',\n",
            "                     'region': 'BC',\n",
            "                     'sub_region_1': '593',\n",
            "                     'value': 79196,\n",
            "                     'value_daily': 29},\n",
            "                    {'date': '2022-12-03',\n",
            "                     'name': 'cases',\n",
            "                     'region': 'BC',\n",
            "                     'sub_region_1': '593',\n",
            "                     'value': 79216,\n",
            "                     'value_daily': 20},\n",
            "                    {'date': '2022-12-04',\n",
            "                     'name': 'cases',\n",
            "                     'region': 'BC',\n",
            "                     'sub_region_1': '593',\n",
            "                     'value': 79240,\n",
            "                     'value_daily': 24},\n",
            "                    {'date': '2022-12-05',\n",
            "                     'name': 'cases',\n",
            "                     'region': 'BC',\n",
            "                     'sub_region_1': '593',\n",
            "                     'value': 79264,\n",
            "                     'value_daily': 24},\n",
            "                    {'date': '2022-12-06',\n",
            "                     'name': 'cases',\n",
            "                     'region': 'BC',\n",
            "                     'sub_region_1': '593',\n",
            "                     'value': 79284,\n",
            "                     'value_daily': 20},\n",
            "                    {'date': '2022-12-07',\n",
            "                     'name': 'cases',\n",
            "                     'region': 'BC',\n",
            "                     'sub_region_1': '593',\n",
            "                     'value': 79309,\n",
            "                     'value_daily': 25},\n",
            "                    {'date': '2022-12-08',\n",
            "                     'name': 'cases',\n",
            "                     'region': 'BC',\n",
            "                     'sub_region_1': '593',\n",
            "                     'value': 79327,\n",
            "                     'value_daily': 18},\n",
            "                    {'date': '2022-12-09',\n",
            "                     'name': 'cases',\n",
            "                     'region': 'BC',\n",
            "                     'sub_region_1': '593',\n",
            "                     'value': 79345,\n",
            "                     'value_daily': 18},\n",
            "                    {'date': '2022-12-10',\n",
            "                     'name': 'cases',\n",
            "                     'region': 'BC',\n",
            "                     'sub_region_1': '593',\n",
            "                     'value': 79371,\n",
            "                     'value_daily': 26},\n",
            "                    {'date': '2022-12-11',\n",
            "                     'name': 'cases',\n",
            "                     'region': 'BC',\n",
            "                     'sub_region_1': '593',\n",
            "                     'value': 79390,\n",
            "                     'value_daily': 19},\n",
            "                    {'date': '2022-12-12',\n",
            "                     'name': 'cases',\n",
            "                     'region': 'BC',\n",
            "                     'sub_region_1': '593',\n",
            "                     'value': 79417,\n",
            "                     'value_daily': 27},\n",
            "                    {'date': '2022-12-13',\n",
            "                     'name': 'cases',\n",
            "                     'region': 'BC',\n",
            "                     'sub_region_1': '593',\n",
            "                     'value': 79441,\n",
            "                     'value_daily': 24},\n",
            "                    {'date': '2022-12-14',\n",
            "                     'name': 'cases',\n",
            "                     'region': 'BC',\n",
            "                     'sub_region_1': '593',\n",
            "                     'value': 79463,\n",
            "                     'value_daily': 22},\n",
            "                    {'date': '2022-12-15',\n",
            "                     'name': 'cases',\n",
            "                     'region': 'BC',\n",
            "                     'sub_region_1': '593',\n",
            "                     'value': 79482,\n",
            "                     'value_daily': 19},\n",
            "                    {'date': '2022-12-16',\n",
            "                     'name': 'cases',\n",
            "                     'region': 'BC',\n",
            "                     'sub_region_1': '593',\n",
            "                     'value': 79504,\n",
            "                     'value_daily': 22},\n",
            "                    {'date': '2022-12-17',\n",
            "                     'name': 'cases',\n",
            "                     'region': 'BC',\n",
            "                     'sub_region_1': '593',\n",
            "                     'value': 79518,\n",
            "                     'value_daily': 14},\n",
            "                    {'date': '2022-12-18',\n",
            "                     'name': 'cases',\n",
            "                     'region': 'BC',\n",
            "                     'sub_region_1': '593',\n",
            "                     'value': 79538,\n",
            "                     'value_daily': 20},\n",
            "                    {'date': '2022-12-19',\n",
            "                     'name': 'cases',\n",
            "                     'region': 'BC',\n",
            "                     'sub_region_1': '593',\n",
            "                     'value': 79558,\n",
            "                     'value_daily': 20},\n",
            "                    {'date': '2022-12-20',\n",
            "                     'name': 'cases',\n",
            "                     'region': 'BC',\n",
            "                     'sub_region_1': '593',\n",
            "                     'value': 79582,\n",
            "                     'value_daily': 24},\n",
            "                    {'date': '2022-12-21',\n",
            "                     'name': 'cases',\n",
            "                     'region': 'BC',\n",
            "                     'sub_region_1': '593',\n",
            "                     'value': 79600,\n",
            "                     'value_daily': 18},\n",
            "                    {'date': '2022-12-22',\n",
            "                     'name': 'cases',\n",
            "                     'region': 'BC',\n",
            "                     'sub_region_1': '593',\n",
            "                     'value': 79636,\n",
            "                     'value_daily': 36},\n",
            "                    {'date': '2022-12-23',\n",
            "                     'name': 'cases',\n",
            "                     'region': 'BC',\n",
            "                     'sub_region_1': '593',\n",
            "                     'value': 79656,\n",
            "                     'value_daily': 20},\n",
            "                    {'date': '2022-12-24',\n",
            "                     'name': 'cases',\n",
            "                     'region': 'BC',\n",
            "                     'sub_region_1': '593',\n",
            "                     'value': 79685,\n",
            "                     'value_daily': 29},\n",
            "                    {'date': '2022-12-25',\n",
            "                     'name': 'cases',\n",
            "                     'region': 'BC',\n",
            "                     'sub_region_1': '593',\n",
            "                     'value': 79712,\n",
            "                     'value_daily': 27},\n",
            "                    {'date': '2022-12-26',\n",
            "                     'name': 'cases',\n",
            "                     'region': 'BC',\n",
            "                     'sub_region_1': '593',\n",
            "                     'value': 79742,\n",
            "                     'value_daily': 30},\n",
            "                    {'date': '2022-12-27',\n",
            "                     'name': 'cases',\n",
            "                     'region': 'BC',\n",
            "                     'sub_region_1': '593',\n",
            "                     'value': 79779,\n",
            "                     'value_daily': 37},\n",
            "                    {'date': '2022-12-28',\n",
            "                     'name': 'cases',\n",
            "                     'region': 'BC',\n",
            "                     'sub_region_1': '593',\n",
            "                     'value': 79798,\n",
            "                     'value_daily': 19},\n",
            "                    {'date': '2022-12-29',\n",
            "                     'name': 'cases',\n",
            "                     'region': 'BC',\n",
            "                     'sub_region_1': '593',\n",
            "                     'value': 79835,\n",
            "                     'value_daily': 37},\n",
            "                    {'date': '2022-12-30',\n",
            "                     'name': 'cases',\n",
            "                     'region': 'BC',\n",
            "                     'sub_region_1': '593',\n",
            "                     'value': 79870,\n",
            "                     'value_daily': 35},\n",
            "                    {'date': '2022-12-31',\n",
            "                     'name': 'cases',\n",
            "                     'region': 'BC',\n",
            "                     'sub_region_1': '593',\n",
            "                     'value': 79894,\n",
            "                     'value_daily': 24}]},\n",
            " 'version': '2023-01-09 16:08 EST'}\n"
          ]
        }
      ],
      "source": [
        "result = json.loads(response.text)\n",
        "pprint(result)   # pretty-print the entire data structure we got back..."
      ],
      "metadata": {
        "pycharm": {
          "name": "#%%\n"
        },
        "id": "M5wV1C_0BH3q",
        "colab": {
          "base_uri": "https://localhost:8080/"
        },
        "outputId": "608bc7e7-9e72-4aef-cc60-98b7b7ef34d6"
      }
    },
    {
      "cell_type": "markdown",
      "source": [
        "### Extract data items from a list of dictionaries\n",
        "Next we use \"list comprehension\" to extract the list of dates and associated cases into \"parallel lists\"\n",
        "\n",
        "Notice how we \"parse\" the date strings, using strptime, into a real date objects so they are easier to work with (format: yyyy-mm-dd)"
      ],
      "metadata": {
        "collapsed": false,
        "pycharm": {
          "name": "#%% md\n"
        },
        "id": "dAXX9kuZBH3r"
      }
    },
    {
      "cell_type": "code",
      "execution_count": 10,
      "outputs": [
        {
          "output_type": "stream",
          "name": "stdout",
          "text": [
            "Dates: ['2022-11-01', '2022-11-02', '2022-11-03', '2022-11-04', '2022-11-05', '2022-11-06', '2022-11-07', '2022-11-08', '2022-11-09', '2022-11-10']\n",
            "Cases: [13, 15, 6, 17, 17, 11, 12, 12, 18, 15]\n",
            "Zipped: [('2022-11-01', 13), ('2022-11-02', 15), ('2022-11-03', 6), ('2022-11-04', 17), ('2022-11-05', 17), ('2022-11-06', 11), ('2022-11-07', 12), ('2022-11-08', 12), ('2022-11-09', 18), ('2022-11-10', 15)]\n"
          ]
        }
      ],
      "source": [
        "cases = result['data']['cases']\n",
        "case_dates = [daily['date'] for daily in cases]     # List Comprehension #1: extract the case date strings\n",
        "n_cases = [daily['value_daily'] for daily in cases] # List Comprehension #2:  extract the case counts\n",
        "\n",
        "print('Dates:', case_dates[:10])      # do you recall the \"slice\" operation?  If not, look it up in the ThinkCsPy textbook!\n",
        "print('Cases:', n_cases[:10])\n",
        "print('Zipped:', list(zip(case_dates[:10], n_cases[:10])))  # zip is a very handy function to \"zip\" 2 lists together like a zipper..."
      ],
      "metadata": {
        "pycharm": {
          "name": "#%%\n"
        },
        "id": "JOFe4vNCBH3s",
        "outputId": "b6b5d726-e0b6-4b57-9a5a-e93362827e11",
        "colab": {
          "base_uri": "https://localhost:8080/"
        }
      }
    },
    {
      "cell_type": "markdown",
      "source": [
        "### Datetime.date\n",
        "Working with date strings is a pain.  So many formats!  Even within Canada, you might see:\n",
        "\"Jan. 9, 2023\" or \"09-01-2023\" or \"2023-01-09\" or ....\n",
        "Imagine trying to do a calculation like \"how many days between these 2 dates\"!!\n",
        "The build-in `datetime` package makes working with dates much easier.\n",
        "  * step 1: \"parse\" the date string data (`strptime` ==  \"string-parse-datetime object\")\n",
        "  * step 2: get the date part (i.e., without the time)"
      ],
      "metadata": {
        "collapsed": false,
        "pycharm": {
          "name": "#%% md\n"
        },
        "id": "pksZtomGskCP"
      }
    },
    {
      "cell_type": "code",
      "execution_count": 11,
      "outputs": [
        {
          "output_type": "stream",
          "name": "stdout",
          "text": [
            "[datetime.date(2022, 11, 1), datetime.date(2022, 11, 2), datetime.date(2022, 11, 3), datetime.date(2022, 11, 4), datetime.date(2022, 11, 5), datetime.date(2022, 11, 6), datetime.date(2022, 11, 7), datetime.date(2022, 11, 8), datetime.date(2022, 11, 9), datetime.date(2022, 11, 10)]\n"
          ]
        }
      ],
      "source": [
        "# parse a datetime object from a string by supplying the correct \"format\" string.\n",
        "datetime_objects = [datetime.datetime.strptime(date, '%Y-%m-%d') for date in case_dates]  # List Comprehension #3\n",
        "\n",
        "# but we only need the \"date\" part...\n",
        "dates = [dt.date() for dt in datetime_objects]\n",
        "print(dates[:10])"
      ],
      "metadata": {
        "pycharm": {
          "name": "#%%\n"
        },
        "colab": {
          "base_uri": "https://localhost:8080/"
        },
        "id": "gCZQ0bL1skCP",
        "outputId": "4e0b8833-3927-403c-a626-8345643228c4"
      }
    },
    {
      "cell_type": "markdown",
      "source": [
        "## Exercise 1\n",
        "\n",
        "In the code cell below, re-write each of the 3 \"List Comprehensions\" in the code cells above as a loop so you understand how they work.\n",
        "\n",
        "Notice that a \"list comprehension\" is a compact way to write a \"list accumulator\" algorithm (and more efficient too!)"
      ],
      "metadata": {
        "collapsed": false,
        "pycharm": {
          "name": "#%% md\n"
        },
        "id": "koVKiju9BH3s"
      }
    },
    {
      "cell_type": "code",
      "execution_count": 12,
      "outputs": [],
      "source": [
        "# Your code here\n",
        "\n",
        "case_dates = []\n",
        "n_cases = []\n",
        "for daily in cases: #looping over both at once, since they both iterate over the same list\n",
        "  case_dates.append(daily['date'])\n",
        "  n_cases.append(daily['value_daily'])\n",
        "\n",
        "incomprehensible_dates = [] #named such because they're not being comprehended, ha ha\n",
        "for date in case_dates:\n",
        "  incomprehensible_dates.append((datetime.datetime.strptime(date, '%Y-%m-%d')).date())\n",
        "\n",
        "assert incomprehensible_dates == dates #...because otherwise something's gone wrong!"
      ],
      "metadata": {
        "pycharm": {
          "name": "#%%\n"
        },
        "id": "aa5xLcWEBH3t"
      }
    },
    {
      "cell_type": "markdown",
      "source": [
        "### Generating a plot\n",
        "\n",
        "Finally, we'll plot the (dates,cases) data as a nice x-y line graph.\n",
        "\n",
        "The code to format the x-axis labels is taken from https://matplotlib.org/stable/gallery/ticks/date_concise_formatter.html"
      ],
      "metadata": {
        "collapsed": false,
        "id": "2ow28BuTBH3u"
      }
    },
    {
      "cell_type": "code",
      "execution_count": 13,
      "outputs": [
        {
          "output_type": "display_data",
          "data": {
            "text/plain": [
              "<Figure size 432x288 with 1 Axes>"
            ],
            "image/png": "[encoded data removed]"
          },
          "metadata": {
            "needs_background": "light"
          }
        }
      ],
      "source": [
        "def format_date_axis(ax):\n",
        "  \"\"\" format the dates shown on the x-axis of given axes, ax  \"\"\"\n",
        "  locator = mdates.AutoDateLocator(minticks=10, maxticks=20)\n",
        "  formatter = mdates.ConciseDateFormatter(locator)\n",
        "  ax.xaxis.set_major_locator(locator)\n",
        "  ax.xaxis.set_major_formatter(formatter)\n",
        "\n",
        "fig, ax = plt.subplots()\n",
        "format_date_axis(ax)\n",
        "ax.plot(dates, n_cases, label='Daily Cases')  # Plot some data on the axes.\n",
        "ax.set_xlabel('Date')  # Add an x-label to the axes.\n",
        "ax.set_ylabel('confirmed casess')  # Add a y-label to the axes.\n",
        "ax.set_title(\"Covid-19 case counts for \" + locationtoken)  # Add a title to the axes. Change title depending on location!\n",
        "ax.legend();"
      ],
      "metadata": {
        "pycharm": {
          "name": "#%%\n"
        },
        "id": "FgwPH8mTBH3v",
        "outputId": "44017696-1bbb-4de1-fd6e-5c96e09aa851",
        "colab": {
          "base_uri": "https://localhost:8080/",
          "height": 295
        }
      }
    },
    {
      "cell_type": "markdown",
      "source": [
        "## Exercise 2\n",
        "\n",
        "Repeat the analysis above, but this time only for Vancouver Coastal Health Region.\n",
        "\n",
        " * Try to modify as little code as you can (just need to change the \"query\"), and re-run the analysis\n",
        " * You can get the ***hruid*** location code for each health region here:  https://github.com/ccodwg/CovidTimelineCanada/blob/main/geo/hr.csv\n",
        " * Can you generalize the code in the 2nd code cell to make it easier to repeat the analysis for different locations?  What about for different dates?\n",
        "\n",
        "## OPTIONAL - Take your skills to the next level...\n",
        "\n",
        "## Exercise 3\n",
        "\n",
        "Notice that the data plot looks quite erratic.  These swings most likely represent artifacts attributable to the reporting process rather than actual changes in infection rates.\n",
        "\n",
        " * One way to fix this is is to \"smooth\" the date with a \"7-day rolling average\".\n",
        "Each day, we take the average of the previous 7 days cases.\n",
        " * Add new code cell below, compute the 7-day rolling average for each day from the cases list.\n",
        " * Create a plot to display the rolling average data and compare your plot with the one produced above.\n",
        "\n",
        " Hints: you are free to do this however you like, but a quite elegant solution uses list comprehension, range, and slices"
      ],
      "metadata": {
        "collapsed": false,
        "id": "qqeTORnvBH3v"
      }
    },
    {
      "cell_type": "code",
      "source": [
        "#First time I did this, the cell somehow deleted itself, so here we are. First, I need a function to find the average of some iterable object...\n",
        "\n",
        "def itermean(obj):\n",
        "  output = 0\n",
        "  for x in obj:\n",
        "    output += x\n",
        "  return output / len(obj)\n",
        "\n",
        "n_cases_avg = [itermean(n_cases[x:x+7]) for x in range(len(n_cases) - 7)]\n",
        "\n",
        "dates_avg = dates[7:] #discard the first seven values\n"
      ],
      "metadata": {
        "id": "PEBNgvkc8o31"
      },
      "execution_count": 14,
      "outputs": []
    },
    {
      "cell_type": "code",
      "execution_count": 15,
      "outputs": [
        {
          "output_type": "display_data",
          "data": {
            "text/plain": [
              "<Figure size 432x288 with 1 Axes>"
            ],
            "image/png": "[encoded data removed]"
          },
          "metadata": {
            "needs_background": "light"
          }
        }
      ],
      "source": [
        "#copying the graphing code cell down here, too, since I want to see what I'm doing\n",
        "\n",
        "fig, ax = plt.subplots()\n",
        "format_date_axis(ax)\n",
        "ax.plot(dates_avg, n_cases_avg, label='Daily Cases')  # Plot some data on the axes.\n",
        "ax.set_xlabel('Date')  # Add an x-label to the axes.\n",
        "ax.set_ylabel('confirmed cases')  # Add a y-label to the axes.\n",
        "ax.set_title(\"Covid-19 case counts for \" + locationtoken + \" (rolling 7-day average)\")  # Add a title to the axes. Change title depending on location!\n",
        "ax.legend();"
      ],
      "metadata": {
        "pycharm": {
          "name": "#%%\n"
        },
        "colab": {
          "base_uri": "https://localhost:8080/",
          "height": 295
        },
        "id": "1byaPWCBskCQ",
        "outputId": "a29467d4-822e-45a1-da84-84bc60ca9b9c"
      }
    }
  ],
  "metadata": {
    "kernelspec": {
      "display_name": "Python 3",
      "language": "python",
      "name": "python3"
    },
    "language_info": {
      "codemirror_mode": {
        "name": "ipython",
        "version": 2
      },
      "file_extension": ".py",
      "mimetype": "text/x-python",
      "name": "python",
      "nbconvert_exporter": "python",
      "pygments_lexer": "ipython2",
      "version": "2.7.6"
    },
    "colab": {
      "name": "lab1.ipynb",
      "provenance": []
    }
  },
  "nbformat": 4,
  "nbformat_minor": 0
}